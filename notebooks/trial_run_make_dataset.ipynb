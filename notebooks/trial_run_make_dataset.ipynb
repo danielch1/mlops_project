{
 "cells": [
  {
   "cell_type": "code",
   "execution_count": 1,
   "metadata": {},
   "outputs": [],
   "source": [
    "import pandas as pd\n",
    "import numpy as np\n",
    "import torch\n",
    "import os\n",
    "import random\n",
    "from pathlib import Path\n",
    "from torch.utils.data import Dataset, DataLoader\n",
    "from PIL import Image\n",
    "from torchvision import transforms"
   ]
  },
  {
   "cell_type": "code",
   "execution_count": 2,
   "metadata": {},
   "outputs": [],
   "source": [
    "class Lego_Dataset(torch.utils.data.Dataset):\n",
    "    def __init__(self, file_paths, path, labels, transform=None):\n",
    "        \"\"\"\n",
    "        Args:\n",
    "            file_paths (list): List of file paths for the images.\n",
    "            labels (list): List of corresponding labels.\n",
    "            transform (callable, optional): Optional transform to be applied on a sample.\n",
    "        \"\"\"\n",
    "        self.file_paths = file_paths\n",
    "        self.labels = labels\n",
    "        self.transform = transform\n",
    "        self.path = path\n",
    "\n",
    "    def __len__(self):\n",
    "        return len(self.file_paths)\n",
    "\n",
    "    def __getitem__(self, idx):\n",
    "        img_path = self.file_paths[idx]\n",
    "        image = Image.open(os.path.join(self.path,img_path)).convert(\"RGB\")\n",
    "\n",
    "        if self.transform:\n",
    "            image = self.transform(image)\n",
    "\n",
    "        label = self.labels[idx]\n",
    "\n",
    "        return image, label"
   ]
  },
  {
   "cell_type": "code",
   "execution_count": 3,
   "metadata": {},
   "outputs": [
    {
     "name": "stdout",
     "output_type": "stream",
     "text": [
      "c:\\Users\\dchro\\Documents\\MLOps\\mlops_project\\notebooks C:/Users/dchro/Documents/MLOps/mlops_project/data/external/lego_dataset\n",
      "C:/Users/dchro/Documents/MLOps/mlops_project/data/external/lego_dataset\\index.csv\n"
     ]
    }
   ],
   "source": [
    "#list of filenames\n",
    "wd = os.getcwd()\n",
    "path = os.path.join(wd,\"C:/Users/dchro/Documents/MLOps/mlops_project/data/external/lego_dataset\")\n",
    "print(wd, path)\n",
    "print(os.path.join(path, 'index.csv'))\n",
    "index = pd.read_csv( 'C:/Users/dchro/Documents/MLOps/mlops_project/data/external/lego_dataset/index.csv')\n",
    "labels = index[\"class_id\"]-1\n",
    "files = index[\"path\"]"
   ]
  },
  {
   "cell_type": "code",
   "execution_count": 7,
   "metadata": {},
   "outputs": [],
   "source": [
    "transform = transforms.Compose([transforms.ToTensor(), transforms.Normalize((0.5,), (0.5,))])\n",
    "trainset = Lego_Dataset(file_paths=files, path = path, labels=labels,transform=transform)\n",
    "\n",
    "trainset[0][0].shape"
   ]
  },
  {
   "cell_type": "code",
   "execution_count": 9,
   "metadata": {},
   "outputs": [],
   "source": [
    "train_loader = DataLoader(trainset, batch_size=32, shuffle=True)"
   ]
  },
  {
   "cell_type": "code",
   "execution_count": 10,
   "metadata": {},
   "outputs": [
    {
     "name": "stdout",
     "output_type": "stream",
     "text": [
      "EPOCH:     0/tBATCH:     0/   12/tLOSS: 3.996\n",
      "EPOCH:     0/tBATCH:     1/   12/tLOSS: 6.326\n",
      "EPOCH:     0/tBATCH:     2/   12/tLOSS: 3.532\n",
      "EPOCH:     0/tBATCH:     3/   12/tLOSS: 4.061\n",
      "EPOCH:     0/tBATCH:     4/   12/tLOSS: 3.867\n",
      "EPOCH:     0/tBATCH:     5/   12/tLOSS: 3.061\n",
      "EPOCH:     0/tBATCH:     6/   12/tLOSS: 3.496\n",
      "EPOCH:     0/tBATCH:     7/   12/tLOSS: 3.318\n",
      "EPOCH:     0/tBATCH:     8/   12/tLOSS: 3.327\n",
      "EPOCH:     0/tBATCH:     9/   12/tLOSS: 3.070\n",
      "EPOCH:     0/tBATCH:    10/   12/tLOSS: 2.603\n",
      "EPOCH:     0/tBATCH:    11/   12/tLOSS: 1.867\n",
      "EPOCH:     0 /t LOSS: 0.115 /t ACCURACY: 0.181\n",
      "EPOCH:     1/tBATCH:     0/   12/tLOSS: 1.402\n",
      "EPOCH:     1/tBATCH:     1/   12/tLOSS: 1.776\n",
      "EPOCH:     1/tBATCH:     2/   12/tLOSS: 1.841\n",
      "EPOCH:     1/tBATCH:     3/   12/tLOSS: 1.062\n",
      "EPOCH:     1/tBATCH:     4/   12/tLOSS: 1.517\n",
      "EPOCH:     1/tBATCH:     5/   12/tLOSS: 1.146\n",
      "EPOCH:     1/tBATCH:     6/   12/tLOSS: 1.101\n",
      "EPOCH:     1/tBATCH:     7/   12/tLOSS: 1.617\n",
      "EPOCH:     1/tBATCH:     8/   12/tLOSS: 1.301\n",
      "EPOCH:     1/tBATCH:     9/   12/tLOSS: 1.318\n",
      "EPOCH:     1/tBATCH:    10/   12/tLOSS: 1.090\n",
      "EPOCH:     1/tBATCH:    11/   12/tLOSS: 0.629\n",
      "EPOCH:     1 /t LOSS: 0.043 /t ACCURACY: 0.612\n",
      "EPOCH:     2/tBATCH:     0/   12/tLOSS: 0.677\n",
      "EPOCH:     2/tBATCH:     1/   12/tLOSS: 0.785\n",
      "EPOCH:     2/tBATCH:     2/   12/tLOSS: 0.621\n",
      "EPOCH:     2/tBATCH:     3/   12/tLOSS: 0.220\n",
      "EPOCH:     2/tBATCH:     4/   12/tLOSS: 0.343\n",
      "EPOCH:     2/tBATCH:     5/   12/tLOSS: 0.175\n",
      "EPOCH:     2/tBATCH:     6/   12/tLOSS: 0.230\n",
      "EPOCH:     2/tBATCH:     7/   12/tLOSS: 0.685\n",
      "EPOCH:     2/tBATCH:     8/   12/tLOSS: 0.251\n",
      "EPOCH:     2/tBATCH:     9/   12/tLOSS: 0.803\n",
      "EPOCH:     2/tBATCH:    10/   12/tLOSS: 0.222\n",
      "EPOCH:     2/tBATCH:    11/   12/tLOSS: 0.272\n",
      "EPOCH:     2 /t LOSS: 0.014 /t ACCURACY: 0.865\n",
      "EPOCH:     3/tBATCH:     0/   12/tLOSS: 0.103\n",
      "EPOCH:     3/tBATCH:     1/   12/tLOSS: 0.247\n",
      "EPOCH:     3/tBATCH:     2/   12/tLOSS: 0.121\n",
      "EPOCH:     3/tBATCH:     3/   12/tLOSS: 0.454\n",
      "EPOCH:     3/tBATCH:     4/   12/tLOSS: 0.624\n"
     ]
    },
    {
     "ename": "KeyboardInterrupt",
     "evalue": "",
     "output_type": "error",
     "traceback": [
      "\u001b[1;31m---------------------------------------------------------------------------\u001b[0m",
      "\u001b[1;31mKeyboardInterrupt\u001b[0m                         Traceback (most recent call last)",
      "\u001b[1;32mc:\\Users\\dchro\\Documents\\MLOps\\mlops_project\\notebooks\\trial_run_make_dataset.ipynb Cell 10\u001b[0m line \u001b[0;36m3\n\u001b[0;32m     <a href='vscode-notebook-cell:/c%3A/Users/dchro/Documents/MLOps/mlops_project/notebooks/trial_run_make_dataset.ipynb#X30sZmlsZQ%3D%3D?line=36'>37</a>\u001b[0m y_hat \u001b[39m=\u001b[39m model(inputs)\n\u001b[0;32m     <a href='vscode-notebook-cell:/c%3A/Users/dchro/Documents/MLOps/mlops_project/notebooks/trial_run_make_dataset.ipynb#X30sZmlsZQ%3D%3D?line=37'>38</a>\u001b[0m batch_loss \u001b[39m=\u001b[39m criterion(y_hat, labels)\n\u001b[1;32m---> <a href='vscode-notebook-cell:/c%3A/Users/dchro/Documents/MLOps/mlops_project/notebooks/trial_run_make_dataset.ipynb#X30sZmlsZQ%3D%3D?line=38'>39</a>\u001b[0m batch_loss\u001b[39m.\u001b[39;49mbackward()\n\u001b[0;32m     <a href='vscode-notebook-cell:/c%3A/Users/dchro/Documents/MLOps/mlops_project/notebooks/trial_run_make_dataset.ipynb#X30sZmlsZQ%3D%3D?line=39'>40</a>\u001b[0m optimizer\u001b[39m.\u001b[39mstep()\n\u001b[0;32m     <a href='vscode-notebook-cell:/c%3A/Users/dchro/Documents/MLOps/mlops_project/notebooks/trial_run_make_dataset.ipynb#X30sZmlsZQ%3D%3D?line=41'>42</a>\u001b[0m total_loss \u001b[39m+\u001b[39m\u001b[39m=\u001b[39m \u001b[39mfloat\u001b[39m(batch_loss)\n",
      "File \u001b[1;32mc:\\Users\\dchro\\.conda\\envs\\MLOps\\lib\\site-packages\\torch\\_tensor.py:487\u001b[0m, in \u001b[0;36mTensor.backward\u001b[1;34m(self, gradient, retain_graph, create_graph, inputs)\u001b[0m\n\u001b[0;32m    477\u001b[0m \u001b[39mif\u001b[39;00m has_torch_function_unary(\u001b[39mself\u001b[39m):\n\u001b[0;32m    478\u001b[0m     \u001b[39mreturn\u001b[39;00m handle_torch_function(\n\u001b[0;32m    479\u001b[0m         Tensor\u001b[39m.\u001b[39mbackward,\n\u001b[0;32m    480\u001b[0m         (\u001b[39mself\u001b[39m,),\n\u001b[1;32m   (...)\u001b[0m\n\u001b[0;32m    485\u001b[0m         inputs\u001b[39m=\u001b[39minputs,\n\u001b[0;32m    486\u001b[0m     )\n\u001b[1;32m--> 487\u001b[0m torch\u001b[39m.\u001b[39;49mautograd\u001b[39m.\u001b[39;49mbackward(\n\u001b[0;32m    488\u001b[0m     \u001b[39mself\u001b[39;49m, gradient, retain_graph, create_graph, inputs\u001b[39m=\u001b[39;49minputs\n\u001b[0;32m    489\u001b[0m )\n",
      "File \u001b[1;32mc:\\Users\\dchro\\.conda\\envs\\MLOps\\lib\\site-packages\\torch\\autograd\\__init__.py:200\u001b[0m, in \u001b[0;36mbackward\u001b[1;34m(tensors, grad_tensors, retain_graph, create_graph, grad_variables, inputs)\u001b[0m\n\u001b[0;32m    195\u001b[0m     retain_graph \u001b[39m=\u001b[39m create_graph\n\u001b[0;32m    197\u001b[0m \u001b[39m# The reason we repeat same the comment below is that\u001b[39;00m\n\u001b[0;32m    198\u001b[0m \u001b[39m# some Python versions print out the first line of a multi-line function\u001b[39;00m\n\u001b[0;32m    199\u001b[0m \u001b[39m# calls in the traceback and some print out the last line\u001b[39;00m\n\u001b[1;32m--> 200\u001b[0m Variable\u001b[39m.\u001b[39;49m_execution_engine\u001b[39m.\u001b[39;49mrun_backward(  \u001b[39m# Calls into the C++ engine to run the backward pass\u001b[39;49;00m\n\u001b[0;32m    201\u001b[0m     tensors, grad_tensors_, retain_graph, create_graph, inputs,\n\u001b[0;32m    202\u001b[0m     allow_unreachable\u001b[39m=\u001b[39;49m\u001b[39mTrue\u001b[39;49;00m, accumulate_grad\u001b[39m=\u001b[39;49m\u001b[39mTrue\u001b[39;49;00m)\n",
      "\u001b[1;31mKeyboardInterrupt\u001b[0m: "
     ]
    }
   ],
   "source": [
    "import torch\n",
    "import torch.nn as nn\n",
    "import torch.optim as optim\n",
    "import timm\n",
    "import torchvision.transforms as transforms\n",
    "from torch.utils.data import DataLoader, Dataset\n",
    "\n",
    "num_epochs = 5\n",
    "lr = 0.003\n",
    "\n",
    "num_classes = 38 \n",
    "\n",
    "\n",
    "#model = timm.create_model('mobilenetv3_small_100', pretrained=True, num_classes=num_classes)\n",
    "\n",
    "\n",
    "\n",
    "model = timm.create_model('mobilenetv3_large_100', pretrained=True, num_classes=num_classes)\n",
    "\n",
    "\n",
    "criterion = nn.CrossEntropyLoss()\n",
    "optimizer = optim.Adam(model.parameters(), lr=lr)\n",
    "\n",
    "\n",
    "# Training loop\n",
    "for ep in range(num_epochs):\n",
    "    \n",
    "\n",
    "    total_loss = 0\n",
    "    num_correct = 0\n",
    "\n",
    "    for batch_idx, (inputs, labels) in enumerate(train_loader):\n",
    "        model.train()\n",
    "        optimizer.zero_grad()\n",
    "        y_hat = model(inputs)\n",
    "        batch_loss = criterion(y_hat, labels)\n",
    "        batch_loss.backward()\n",
    "        optimizer.step()\n",
    "\n",
    "        total_loss += float(batch_loss)\n",
    "        num_correct += int(torch.sum(torch.argmax(y_hat, dim=1) == labels))\n",
    "\n",
    "        \n",
    "        print(\n",
    "            \"EPOCH: {:5}/tBATCH: {:5}/{:5}/tLOSS: {:.3f}\".format(\n",
    "                ep, batch_idx, len(train_loader), batch_loss\n",
    "            )\n",
    "        )\n",
    "\n",
    "    epoch_loss = total_loss / len(trainset)\n",
    "    epoch_accuracy = num_correct / len(trainset)\n",
    "    print(\n",
    "        \"EPOCH: {:5} /t LOSS: {:.3f} /t ACCURACY: {:.3f}\".format(\n",
    "            ep, epoch_loss, epoch_accuracy\n",
    "        )\n",
    "    )\n",
    "\n",
    "\n",
    "    \n",
    "    # Validation loop (optional)\n",
    "    #model.eval()\n",
    "    #with torch.no_grad():\n",
    "    #    for inputs, labels in val_loader:\n",
    "    #        outputs = model(inputs)\n",
    "            # Calculate validation loss and metrics\n",
    "\n",
    "# Save the trained model\n",
    "#torch.save(model.state_dict(), 'mobilenetv3_fine_tuned.pth')\n",
    "\n",
    "\n"
   ]
  }
 ],
 "metadata": {
  "kernelspec": {
   "display_name": "the_positive_thinkers",
   "language": "python",
   "name": "python3"
  },
  "language_info": {
   "codemirror_mode": {
    "name": "ipython",
    "version": 3
   },
   "file_extension": ".py",
   "mimetype": "text/x-python",
   "name": "python",
   "nbconvert_exporter": "python",
   "pygments_lexer": "ipython3",
   "version": "3.9.18"
  },
  "orig_nbformat": 4
 },
 "nbformat": 4,
 "nbformat_minor": 2
}
