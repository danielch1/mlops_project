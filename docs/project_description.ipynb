{
 "cells": [
  {
   "cell_type": "markdown",
   "metadata": {},
   "source": [
    "# Image Classification using the TIMM Framework\n",
    "Authors: Daniel Chroscicki, Lennart Marx\n",
    "\n",
    "\n",
    "#### Goal\n",
    "The goal of a project is to build an MLOps-like pipeline and project structure for image classification.\n",
    "\n",
    "\n",
    "#### Dataset\n",
    "Kaggle dataset of LEGO Minifigures\n",
    "source: https://www.kaggle.com/datasets/ihelon/lego-minifigures-classification\n",
    "\n",
    "The dataset contains colourful, 512x512 images of different Lego Minifigures with name labels. The figures are from 4 different popular LEGO Themes: \n",
    "- LEGO Harry Potter\n",
    "- LEGO Jurassic World\n",
    "- LEGO Marvel\n",
    "- LEGO Star Wars\n",
    "\n",
    "One Class is one kind of Figure (like Boba Fett, Obi-Wan or Harry Potter). The Images feature the figures in different positions and holding different items in some cases. Data is divided into training and validation sets of approximately 500 and 100 images respectively.\n",
    "\n",
    "\n",
    "#### Technology\n",
    "We will base the Machine Learning Code on the Deep Learning library PyTorch using the Image Recognition framework Timm. Timm is a library containing state-of-the-art computer vision models, layers, utilities, optimizers, schedulers, data loaders, augmentations, and training/evaluation scripts for image classification tasks. \n",
    "\n",
    "\n",
    "#### Planned project elements/step\n",
    "- Git repository\n",
    "- Data version control via DVC\n",
    "- Cookiecutter \"Data Science\" project structure\n",
    "- Classification algorithm trained and assessed within a docker container using Timm framework\n",
    "    - Data preprocessing\n",
    "    - Data transformation\n",
    "    - Pre-trained network download\n",
    "    - Model training\n",
    "    - Model assessment\n",
    "- Implementation of good coding practices:\n",
    "    - Code compliant with the pep8 standard for Python\n",
    "    - Code typing\n",
    "    - Code documentation\n",
    "- Training process parametrization & logging"
   ]
  }
 ],
 "metadata": {
  "language_info": {
   "name": "python"
  },
  "orig_nbformat": 4
 },
 "nbformat": 4,
 "nbformat_minor": 2
}
